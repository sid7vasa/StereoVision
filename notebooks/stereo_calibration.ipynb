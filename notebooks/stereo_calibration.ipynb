{
 "cells": [
  {
   "cell_type": "code",
   "execution_count": 3,
   "metadata": {
    "collapsed": true
   },
   "outputs": [],
   "source": [
    "import cv2\n",
    "import numpy as np\n",
    "import matplotlib.pyplot as plt\n",
    "from tqdm import tqdm"
   ]
  },
  {
   "cell_type": "code",
   "execution_count": 4,
   "outputs": [],
   "source": [
    "path = \"../data/\"\n",
    "criteria = (cv2.TERM_CRITERIA_EPS + cv2.TERM_CRITERIA_MAX_ITER, 30, 0.001)"
   ],
   "metadata": {
    "collapsed": false,
    "pycharm": {
     "name": "#%%\n"
    }
   }
  },
  {
   "cell_type": "code",
   "execution_count": 5,
   "outputs": [],
   "source": [
    "objp = np.zeros((9 * 6, 3), np.float32)\n",
    "objp[:, :2] = np.mgrid[0:9, 0:6].T.reshape(-1, 2)"
   ],
   "metadata": {
    "collapsed": false,
    "pycharm": {
     "name": "#%%\n"
    }
   }
  },
  {
   "cell_type": "code",
   "execution_count": 6,
   "outputs": [],
   "source": [
    "img_ptsL = []\n",
    "img_ptsR = []\n",
    "obj_pts = []"
   ],
   "metadata": {
    "collapsed": false,
    "pycharm": {
     "name": "#%%\n"
    }
   }
  },
  {
   "cell_type": "code",
   "execution_count": 7,
   "outputs": [
    {
     "name": "stderr",
     "output_type": "stream",
     "text": [
      "100%|██████████| 18/18 [00:18<00:00,  1.02s/it]\n"
     ]
    }
   ],
   "source": [
    "for i in tqdm(range(1, 20)):\n",
    "    imgL = cv2.imread(path + \"Leftimage_%d.jpg\" % i)\n",
    "    imgR = cv2.imread(path + \"Rightimage_%d.jpg\" % i)\n",
    "    imgL_gray = cv2.imread(path + \"Leftimage_%d.jpg\" % i, 0)\n",
    "    imgR_gray = cv2.imread(path + \"Rightimage_%d.jpg\" % i, 0)\n",
    "\n",
    "    outputL = imgL.copy()\n",
    "    outputR = imgR.copy()\n",
    "\n",
    "    retR, cornersR = cv2.findChessboardCorners(outputR, (9, 6), None)\n",
    "    retL, cornersL = cv2.findChessboardCorners(outputL, (9, 6), None)\n",
    "\n",
    "    if retR and retL:\n",
    "        obj_pts.append(objp)\n",
    "        cv2.cornerSubPix(imgR_gray, cornersR, (11, 11), (-1, -1), criteria)\n",
    "        cv2.cornerSubPix(imgL_gray, cornersL, (11, 11), (-1, -1), criteria)\n",
    "        cv2.drawChessboardCorners(outputR, (9, 6), cornersR, retR)\n",
    "        cv2.drawChessboardCorners(outputL, (9, 6), cornersL, retL)\n",
    "        cv2.imshow('cornersR', outputR)\n",
    "        cv2.imshow('cornersL', outputL)\n",
    "        cv2.waitKey(0)\n",
    "        img_ptsL.append(cornersL)\n",
    "        img_ptsR.append(cornersR)\n",
    "cv2.destroyAllWindows()"
   ],
   "metadata": {
    "collapsed": false,
    "pycharm": {
     "name": "#%%\n"
    }
   }
  },
  {
   "cell_type": "code",
   "execution_count": 9,
   "outputs": [],
   "source": [
    "# Calibrating left camera\n",
    "retL, mtxL, distL, rvecsL, tvecsL = cv2.calibrateCamera(obj_pts, img_ptsL, imgL_gray.shape[::-1], None, None)\n",
    "hL, wL = imgL_gray.shape[:2]\n",
    "new_mtxL, roiL = cv2.getOptimalNewCameraMatrix(mtxL, distL, (wL, hL), 1, (wL, hL))\n",
    "# Calibrating right camera\n",
    "retR, mtxR, distR, rvecsR, tvecsR = cv2.calibrateCamera(obj_pts, img_ptsR, imgR_gray.shape[::-1], None, None)\n",
    "hR, wR = imgR_gray.shape[:2]\n",
    "new_mtxR, roiR = cv2.getOptimalNewCameraMatrix(mtxR, distR, (wR, hR), 1, (wR, hR))\n"
   ],
   "metadata": {
    "collapsed": false,
    "pycharm": {
     "name": "#%%\n"
    }
   }
  },
  {
   "cell_type": "code",
   "execution_count": 10,
   "outputs": [],
   "source": [
    "flags = 0\n",
    "flags |= cv2.CALIB_FIX_INTRINSIC\n",
    "# Here we fix the intrinsic camara matrixes so that only Rot, Trns, Emat and Fmat are calculated.\n",
    "# Hence intrinsic parameters are the same\n",
    "criteria_stereo= (cv2.TERM_CRITERIA_EPS + cv2.TERM_CRITERIA_MAX_ITER, 30, 0.001)\n",
    "# This step is performed to transformation between the two cameras and calculate Essential and Fundamenatl matrix\n",
    "retS, new_mtxL, distL, new_mtxR, distR, Rot, Trns, Emat, Fmat = cv2.stereoCalibrate(obj_pts, img_ptsL, img_ptsR, new_mtxL, distL, new_mtxR, distR, imgL_gray.shape[::-1], criteria_stereo, flags)"
   ],
   "metadata": {
    "collapsed": false,
    "pycharm": {
     "name": "#%%\n"
    }
   }
  },
  {
   "cell_type": "code",
   "execution_count": 11,
   "outputs": [],
   "source": [
    "rectify_scale= 1\n",
    "rect_l, rect_r, proj_mat_l, proj_mat_r, Q, roiL, roiR= cv2.stereoRectify(new_mtxL, distL, new_mtxR, distR, imgL_gray.shape[::-1], Rot, Trns, rectify_scale,(0,0))\n"
   ],
   "metadata": {
    "collapsed": false,
    "pycharm": {
     "name": "#%%\n"
    }
   }
  },
  {
   "cell_type": "code",
   "execution_count": 15,
   "outputs": [
    {
     "name": "stdout",
     "output_type": "stream",
     "text": [
      "Saving parameters ......\n"
     ]
    }
   ],
   "source": [
    "Left_Stereo_Map= cv2.initUndistortRectifyMap(new_mtxL, distL, rect_l, proj_mat_l,\n",
    "                                             imgL_gray.shape[::-1], cv2.CV_16SC2)\n",
    "Right_Stereo_Map= cv2.initUndistortRectifyMap(new_mtxR, distR, rect_r, proj_mat_r,\n",
    "                                              imgR_gray.shape[::-1], cv2.CV_16SC2)\n",
    "\n",
    "print(\"Saving parameters ......\")\n",
    "cv_file = cv2.FileStorage(\"improved_params2.xml\", cv2.FILE_STORAGE_WRITE)\n",
    "cv_file.write(\"Left_Stereo_Map_x\",Left_Stereo_Map[0])\n",
    "cv_file.write(\"Left_Stereo_Map_y\",Left_Stereo_Map[1])\n",
    "cv_file.write(\"Right_Stereo_Map_x\",Right_Stereo_Map[0])\n",
    "cv_file.write(\"Right_Stereo_Map_y\",Right_Stereo_Map[1])\n",
    "cv_file.release()\n"
   ],
   "metadata": {
    "collapsed": false,
    "pycharm": {
     "name": "#%%\n"
    }
   }
  },
  {
   "cell_type": "code",
   "execution_count": 13,
   "outputs": [
    {
     "data": {
      "text/plain": "113"
     },
     "execution_count": 13,
     "metadata": {},
     "output_type": "execute_result"
    }
   ],
   "source": [
    "cv2.imshow(\"Left image before rectification\", imgL)\n",
    "cv2.imshow(\"Right image before rectification\", imgR)\n",
    "\n",
    "Left_nice= cv2.remap(imgL,Left_Stereo_Map[0],Left_Stereo_Map[1], cv2.INTER_LANCZOS4, cv2.BORDER_CONSTANT, 0)\n",
    "Right_nice= cv2.remap(imgR,Right_Stereo_Map[0],Right_Stereo_Map[1], cv2.INTER_LANCZOS4, cv2.BORDER_CONSTANT, 0)\n",
    "\n",
    "cv2.imshow(\"Left image after rectification\", Left_nice)\n",
    "cv2.imshow(\"Right image after rectification\", Right_nice)\n",
    "cv2.waitKey(0)\n",
    "\n",
    "out = Right_nice.copy()\n",
    "out[:,:,0] = Right_nice[:,:,0]\n",
    "out[:,:,1] = Right_nice[:,:,1]\n",
    "out[:,:,2] = Left_nice[:,:,2]\n",
    "\n",
    "cv2.imshow(\"Output image\", out)\n",
    "cv2.waitKey(0)\n"
   ],
   "metadata": {
    "collapsed": false,
    "pycharm": {
     "name": "#%%\n"
    }
   }
  },
  {
   "cell_type": "code",
   "execution_count": 14,
   "outputs": [],
   "source": [
    "cv2.destroyAllWindows()\n"
   ],
   "metadata": {
    "collapsed": false,
    "pycharm": {
     "name": "#%%\n"
    }
   }
  },
  {
   "cell_type": "code",
   "execution_count": null,
   "outputs": [],
   "source": [],
   "metadata": {
    "collapsed": false,
    "pycharm": {
     "name": "#%%\n"
    }
   }
  }
 ],
 "metadata": {
  "kernelspec": {
   "name": "ft-kernel",
   "language": "python",
   "display_name": "FT-kernel"
  },
  "language_info": {
   "codemirror_mode": {
    "name": "ipython",
    "version": 2
   },
   "file_extension": ".py",
   "mimetype": "text/x-python",
   "name": "python",
   "nbconvert_exporter": "python",
   "pygments_lexer": "ipython2",
   "version": "2.7.6"
  }
 },
 "nbformat": 4,
 "nbformat_minor": 0
}